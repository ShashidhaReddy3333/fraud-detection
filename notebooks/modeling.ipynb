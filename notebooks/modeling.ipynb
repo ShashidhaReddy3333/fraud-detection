{
 "cells": [
  {
   "cell_type": "markdown",
   "id": "17b479ac",
   "metadata": {},
   "source": [
    "# Modeling & Validation\n",
    "\n",
    "Train LightGBM using Optuna and evaluate on a time‑based hold‑out."
   ]
  },
  {
   "cell_type": "code",
   "execution_count": null,
   "id": "56f94faa",
   "metadata": {},
   "outputs": [],
   "source": [
    "import pandas as pd, numpy as np, lightgbm as lgb, optuna\n",
    "from pathlib import Path\n",
    "from sklearn.metrics import roc_auc_score, roc_curve\n",
    "from matplotlib import pyplot as plt\n",
    "\n",
    "BASE = Path(__file__).resolve().parents[2]\n",
    "DATA = BASE / \"data\" / \"processed\" / \"train_ready.parquet\"\n",
    "df = pd.read_parquet(DATA)\n",
    "y = df['isFraud']\n",
    "X = df.drop(columns=['isFraud'])\n",
    "\n",
    "split_idx = int(len(X)*0.90)\n",
    "X_train, X_val = X.iloc[:split_idx], X.iloc[split_idx:]\n",
    "y_train, y_val = y.iloc[:split_idx], y.iloc[split_idx:]\n",
    "\n",
    "ratio = (y_train.shape[0]-y_train.sum())/y_train.sum()\n",
    "print(\"pos_weight:\", ratio)\n"
   ]
  },
  {
   "cell_type": "code",
   "execution_count": null,
   "id": "b18a5b4d",
   "metadata": {},
   "outputs": [],
   "source": [
    "def objective(trial):\n",
    "    params = {\n",
    "        'objective': 'binary',\n",
    "        'metric': 'auc',\n",
    "        'verbosity': -1,\n",
    "        'learning_rate': trial.suggest_float('lr', 0.01, 0.2, log=True),\n",
    "        'num_leaves': trial.suggest_int('leaves', 63, 511, step=64),\n",
    "        'max_depth': trial.suggest_int('depth', 6, 16),\n",
    "        'feature_fraction': trial.suggest_float('ff', 0.5, 1.0),\n",
    "        'scale_pos_weight': ratio,\n",
    "    }\n",
    "    lgb_train = lgb.Dataset(X_train, y_train)\n",
    "    lgb_val = lgb.Dataset(X_val, y_val, reference=lgb_train)\n",
    "    gbm = lgb.train(params, lgb_train, valid_sets=[lgb_val], \n",
    "                    num_boost_round=500, early_stopping_rounds=50, verbose_eval=False)\n",
    "    preds = gbm.predict(X_val)\n",
    "    return roc_auc_score(y_val, preds)\n"
   ]
  },
  {
   "cell_type": "code",
   "execution_count": null,
   "id": "e4688732",
   "metadata": {},
   "outputs": [],
   "source": [
    "study = optuna.create_study(direction='maximize')\n",
    "study.optimize(objective, n_trials=20)\n",
    "print(\"Best AUC:\", study.best_value)\n",
    "best_params = study.best_params\n",
    "best_params.update({'objective':'binary','metric':'auc','verbosity':-1,'scale_pos_weight':ratio})\n",
    "model = lgb.LGBMClassifier(**best_params)\n",
    "model.fit(X_train, y_train)\n",
    "val_probs = model.predict_proba(X_val)[:,1]\n",
    "print(\"Hold‑out AUROC:\", roc_auc_score(y_val, val_probs))\n"
   ]
  },
  {
   "cell_type": "code",
   "execution_count": null,
   "id": "b4441d4a",
   "metadata": {},
   "outputs": [],
   "source": [
    "fpr, tpr, thr = roc_curve(y_val, val_probs)\n",
    "import numpy as np\n",
    "thr_fpr = thr[np.where(fpr<=0.03)[0][-1]]\n",
    "print(\"Threshold at 3% FPR:\", thr_fpr)\n"
   ]
  }
 ],
 "metadata": {},
 "nbformat": 4,
 "nbformat_minor": 5
}
