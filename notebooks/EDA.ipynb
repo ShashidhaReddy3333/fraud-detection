{
 "cells": [
  {
   "cell_type": "markdown",
   "id": "3a70c6b9",
   "metadata": {},
   "source": [
    "# Exploratory Data Analysis\n",
    "\n",
    "This notebook explores the IEEE‑CIS Fraud dataset, looking at data quality, missingness, distributions, and fraud patterns."
   ]
  },
  {
   "cell_type": "code",
   "execution_count": 2,
   "id": "1d8454dc",
   "metadata": {},
   "outputs": [
    {
     "ename": "NameError",
     "evalue": "name '__file__' is not defined",
     "output_type": "error",
     "traceback": [
      "\u001b[1;31m---------------------------------------------------------------------------\u001b[0m",
      "\u001b[1;31mNameError\u001b[0m                                 Traceback (most recent call last)",
      "Cell \u001b[1;32mIn[2], line 9\u001b[0m\n\u001b[0;32m      6\u001b[0m get_ipython()\u001b[38;5;241m.\u001b[39mrun_line_magic(\u001b[38;5;124m'\u001b[39m\u001b[38;5;124mmatplotlib\u001b[39m\u001b[38;5;124m'\u001b[39m, \u001b[38;5;124m'\u001b[39m\u001b[38;5;124minline\u001b[39m\u001b[38;5;124m'\u001b[39m)\n\u001b[0;32m      7\u001b[0m sns\u001b[38;5;241m.\u001b[39mset_style(\u001b[38;5;124m\"\u001b[39m\u001b[38;5;124mwhitegrid\u001b[39m\u001b[38;5;124m\"\u001b[39m)\n\u001b[1;32m----> 9\u001b[0m BASE \u001b[38;5;241m=\u001b[39m Path(\u001b[38;5;18m__file__\u001b[39m)\u001b[38;5;241m.\u001b[39mresolve()\u001b[38;5;241m.\u001b[39mparents[\u001b[38;5;241m2\u001b[39m]\n\u001b[0;32m     10\u001b[0m RAW_TX \u001b[38;5;241m=\u001b[39m BASE \u001b[38;5;241m/\u001b[39m \u001b[38;5;124m\"\u001b[39m\u001b[38;5;124mdata\u001b[39m\u001b[38;5;124m\"\u001b[39m \u001b[38;5;241m/\u001b[39m \u001b[38;5;124m\"\u001b[39m\u001b[38;5;124mraw\u001b[39m\u001b[38;5;124m\"\u001b[39m \u001b[38;5;241m/\u001b[39m \u001b[38;5;124m\"\u001b[39m\u001b[38;5;124mtrain_transaction.csv\u001b[39m\u001b[38;5;124m\"\u001b[39m\n\u001b[0;32m     11\u001b[0m RAW_ID \u001b[38;5;241m=\u001b[39m BASE \u001b[38;5;241m/\u001b[39m \u001b[38;5;124m\"\u001b[39m\u001b[38;5;124mdata\u001b[39m\u001b[38;5;124m\"\u001b[39m \u001b[38;5;241m/\u001b[39m \u001b[38;5;124m\"\u001b[39m\u001b[38;5;124mraw\u001b[39m\u001b[38;5;124m\"\u001b[39m \u001b[38;5;241m/\u001b[39m \u001b[38;5;124m\"\u001b[39m\u001b[38;5;124mtrain_identity.csv\u001b[39m\u001b[38;5;124m\"\u001b[39m\n",
      "\u001b[1;31mNameError\u001b[0m: name '__file__' is not defined"
     ]
    }
   ],
   "source": [
    "import pandas as pd\n",
    "import matplotlib.pyplot as plt\n",
    "import seaborn as sns\n",
    "from pathlib import Path\n",
    "\n",
    "%matplotlib inline\n",
    "sns.set_style(\"whitegrid\")\n",
    "\n",
    "BASE = Path(__file__).resolve().parents[2]\n",
    "RAW_TX = BASE / \"data\" / \"raw\" / \"train_transaction.csv\"\n",
    "RAW_ID = BASE / \"data\" / \"raw\" / \"train_identity.csv\"\n",
    "\n",
    "print(\"Loading raw data ...\")\n",
    "tx = pd.read_csv(RAW_TX)\n",
    "id_ = pd.read_csv(RAW_ID)\n",
    "print(tx.shape, id_.shape)\n",
    "\n",
    "df = tx.merge(id_, how='left', on='TransactionID')\n",
    "print(\"Merged:\", df.shape)\n",
    "df.head()\n"
   ]
  },
  {
   "cell_type": "code",
   "execution_count": null,
   "id": "c7ce56e8",
   "metadata": {},
   "outputs": [],
   "source": [
    "# Basic statistics\n",
    "print(\"Fraud rate:\", df['isFraud'].mean())\n",
    "df['TransactionAmt'].describe()\n"
   ]
  },
  {
   "cell_type": "code",
   "execution_count": null,
   "id": "b97da0ee",
   "metadata": {},
   "outputs": [],
   "source": [
    "# Missingness heatmap for first 40 features\n",
    "missing = df.isna().mean().sort_values(ascending=False)\n",
    "missing.head(20)\n"
   ]
  },
  {
   "cell_type": "code",
   "execution_count": null,
   "id": "c3278787",
   "metadata": {},
   "outputs": [],
   "source": [
    "plt.figure(figsize=(6,4))\n",
    "sns.histplot(df['TransactionAmt'], bins=100, log_scale=(False, True))\n",
    "plt.title(\"Transaction Amount distribution (log Y)\")\n",
    "plt.show()\n"
   ]
  },
  {
   "cell_type": "code",
   "execution_count": null,
   "id": "4a9ac6cc",
   "metadata": {},
   "outputs": [],
   "source": [
    "# Fraud rate by ProductCD\n",
    "prod_rates = df.groupby('ProductCD')['isFraud'].mean().sort_values(ascending=False)\n",
    "prod_rates.plot(kind='bar', figsize=(6,3), title='Fraud rate by Product')\n",
    "plt.xlabel('ProductCD'); plt.ylabel('Fraud rate')\n"
   ]
  }
 ],
 "metadata": {
  "kernelspec": {
   "display_name": "base",
   "language": "python",
   "name": "python3"
  },
  "language_info": {
   "codemirror_mode": {
    "name": "ipython",
    "version": 3
   },
   "file_extension": ".py",
   "mimetype": "text/x-python",
   "name": "python",
   "nbconvert_exporter": "python",
   "pygments_lexer": "ipython3",
   "version": "3.12.7"
  }
 },
 "nbformat": 4,
 "nbformat_minor": 5
}
